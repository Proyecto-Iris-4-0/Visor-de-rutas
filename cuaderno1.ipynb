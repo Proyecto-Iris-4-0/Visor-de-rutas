{
 "cells": [
  {
   "cell_type": "code",
   "execution_count": 1,
   "metadata": {},
   "outputs": [
    {
     "data": {
      "text/html": [
       "<style>.container { width:100% !important; }</style>"
      ],
      "text/plain": [
       "<IPython.core.display.HTML object>"
      ]
     },
     "metadata": {},
     "output_type": "display_data"
    }
   ],
   "source": [
    "#ENSANCHAMOS LA PANTALLA\n",
    "\n",
    "from IPython.core.display import display, HTML\n",
    "display(HTML(\"<style>.container { width:100% !important; }</style>\"))"
   ]
  },
  {
   "cell_type": "code",
   "execution_count": 2,
   "metadata": {},
   "outputs": [],
   "source": [
    "#IMPORTS DE MAPAS & ROUTINGPY\n",
    "\n",
    "\n",
    "from ipyleaflet import Map, GeoJSON,Marker,FullScreenControl\n",
    "import json\n",
    "from routingpy import Google, OSRM, Graphhopper\n",
    "from pprint import pprint\n"
   ]
  },
  {
   "cell_type": "code",
   "execution_count": 3,
   "metadata": {},
   "outputs": [],
   "source": [
    "#CLIENTES DE CADA API\n",
    "\n",
    "client_OSRM = OSRM(base_url='http://localhost:5000')\n",
    "\n",
    "\n",
    "client_GRAPHHOPPER=Graphhopper(base_url='http://localhost:8989')\n",
    "\n",
    "\n",
    "client_google= Google(\"tuAPIKey\")\n",
    "\n"
   ]
  },
  {
   "cell_type": "code",
   "execution_count": 4,
   "metadata": {},
   "outputs": [],
   "source": [
    "#RUTA A GEOJSON\n",
    "\n",
    "def route_to_feature(route):\n",
    "    return {\n",
    "        'type': 'LineString',\n",
    "        'coordinates': route\n",
    "        \n",
    "    }"
   ]
  },
  {
   "cell_type": "code",
   "execution_count": 6,
   "metadata": {},
   "outputs": [],
   "source": [
    "#COORDENADAS\n",
    "\n",
    "#Munilla-lagunilla\n",
    "coords_MUN_LAG = [[-2.294400567,42.188122], [-2.3048430, 42.347525]]\n",
    "\n",
    "#OCÓN-LAGUNILLA\n",
    "\n",
    "coords_OCON_LAG = [[-2.229957325,42.305436166666674], [-2.3048430, 42.347525]]\n",
    "\n",
    "#Ribafrecha-Clavijo\n",
    "\n",
    "coords_rib_clav=[[-2.387221875,42.3562509375],[-2.427390,42.346342]]\n",
    "\n",
    "\n",
    "soto_munilla=[[-2.426932,42.285358],[-2.294400567,42.188122]]\n",
    "\n",
    "cerv_ecopq=[[-1.953198,42.006150 ],[-2.352444,42.432745]]\n",
    "\n",
    "sant_luc_vent_blanc=[[-2.263245,42.312412],[-2.300975,42.348815]]\n",
    "\n",
    "vent_santL=[[-2.300975,42.348815],[-2.263245,42.312412]]\n",
    "\n",
    "murillo_ribafrecha=[[-2.326882,42.400850],[-2.387221875,42.3562509375]]"
   ]
  },
  {
   "cell_type": "code",
   "execution_count": 9,
   "metadata": {
    "scrolled": true
   },
   "outputs": [
    {
     "data": {
      "application/vnd.jupyter.widget-view+json": {
       "model_id": "8df73e4a4e654b2dbc14e33112719f1f",
       "version_major": 2,
       "version_minor": 0
      },
      "text/plain": [
       "Map(center=[42.312412, -2.263245], controls=(ZoomControl(options=['position', 'zoom_in_text', 'zoom_in_title',…"
      ]
     },
     "metadata": {},
     "output_type": "display_data"
    }
   ],
   "source": [
    "#MAPAS\n",
    "\n",
    "\n",
    "coords=sant_luc_vent_blanc\n",
    "\n",
    "route_OSRM = client_OSRM.directions(locations=coords, profile='pedestrian',alternatives=False,geometries='geojson')\n",
    "\n",
    "route_OSRM_mal = client_OSRM.directions(locations=vent_santL, profile='pedestrian',alternatives=False,geometries='geojson')\n",
    "\n",
    "route_GPH = client_GRAPHHOPPER.directions(locations=coords, profile='car',format='json', instructions=False)\n",
    "\n",
    "\n",
    "ruta_google=client_google.directions(locations=coords,profile='driving')\n",
    "\n",
    "data_osrm=route_to_feature(route_OSRM.geometry)\n",
    "data_osrm_mal=route_to_feature(route_OSRM_mal.geometry)\n",
    "data_gph=route_to_feature(route_GPH.geometry)\n",
    "data_google=route_to_feature(ruta_google.geometry)\n",
    "\n",
    "\n",
    "\n",
    "m = Map(center=( coords[0][1],coords[0][0]), zoom=12)\n",
    "geo_json = GeoJSON(data=data_osrm, style = {'color': 'green', 'opacity':2, 'weight':1.9,'dashArray':'1',  'fillOpacity':0.5})\n",
    "m.add_layer(geo_json)\n",
    "\n",
    "geo_json_mal = GeoJSON(data=data_osrm_mal, style = {'color': 'black', 'opacity':2, 'weight':1.9,'dashArray':'1',  'fillOpacity':0.5})\n",
    "m.add_layer(geo_json_mal)\n",
    "\n",
    "geo_json_gph=GeoJSON(data=data_gph, style = {'color': 'blue', 'opacity':2, 'weight':1.9, 'dashArray':'0', 'fillOpacity':0.5})\n",
    "m.add_layer(geo_json_gph)\n",
    "geo_json_google=GeoJSON(data=data_google, style = {'color': 'red', 'opacity':2, 'weight':1.9, 'dashArray':'0', 'fillOpacity':0.5})\n",
    "m.add_layer(geo_json_google)\n",
    "m.layout.width = '100%'\n",
    "m.layout.height = '1000px'\n",
    "marker_1=Marker(location=[coords[0][1],coords[0][0]])\n",
    "marker_2=Marker(location=[coords[1][1],coords[1][0]])\n",
    "m.add_layer(marker_1)\n",
    "m.add_layer(marker_2)\n",
    "m.add_control(FullScreenControl())\n",
    "\n",
    "\n",
    "m"
   ]
  },
  {
   "cell_type": "code",
   "execution_count": null,
   "metadata": {},
   "outputs": [],
   "source": []
  },
  {
   "cell_type": "code",
   "execution_count": null,
   "metadata": {},
   "outputs": [],
   "source": []
  }
 ],
 "metadata": {
  "kernelspec": {
   "display_name": "Python 3",
   "language": "python",
   "name": "python3"
  },
  "language_info": {
   "codemirror_mode": {
    "name": "ipython",
    "version": 3
   },
   "file_extension": ".py",
   "mimetype": "text/x-python",
   "name": "python",
   "nbconvert_exporter": "python",
   "pygments_lexer": "ipython3",
   "version": "3.7.6"
  }
 },
 "nbformat": 4,
 "nbformat_minor": 4
}
